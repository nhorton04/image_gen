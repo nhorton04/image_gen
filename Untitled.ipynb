{
 "cells": [
  {
   "cell_type": "code",
   "execution_count": 1,
   "metadata": {},
   "outputs": [
    {
     "ename": "ModuleNotFoundError",
     "evalue": "No module named 'cv2'",
     "output_type": "error",
     "traceback": [
      "\u001b[0;31m---------------------------------------------------------------------------\u001b[0m",
      "\u001b[0;31mModuleNotFoundError\u001b[0m                       Traceback (most recent call last)",
      "\u001b[0;32m<ipython-input-1-547b9d6b4a38>\u001b[0m in \u001b[0;36m<module>\u001b[0;34m\u001b[0m\n\u001b[1;32m      8\u001b[0m \u001b[0;32mfrom\u001b[0m \u001b[0mskimage\u001b[0m\u001b[0;34m.\u001b[0m\u001b[0mmorphology\u001b[0m  \u001b[0;32mimport\u001b[0m \u001b[0mdisk\u001b[0m\u001b[0;34m,\u001b[0m \u001b[0merosion\u001b[0m\u001b[0;34m\u001b[0m\u001b[0;34m\u001b[0m\u001b[0m\n\u001b[1;32m      9\u001b[0m \u001b[0;32mfrom\u001b[0m \u001b[0mskimage\u001b[0m\u001b[0;34m.\u001b[0m\u001b[0mrestoration\u001b[0m \u001b[0;32mimport\u001b[0m \u001b[0minpaint\u001b[0m\u001b[0;34m\u001b[0m\u001b[0;34m\u001b[0m\u001b[0m\n\u001b[0;32m---> 10\u001b[0;31m \u001b[0;32mimport\u001b[0m \u001b[0mcv2\u001b[0m\u001b[0;34m\u001b[0m\u001b[0;34m\u001b[0m\u001b[0m\n\u001b[0m\u001b[1;32m     11\u001b[0m \u001b[0;32mimport\u001b[0m \u001b[0mos\u001b[0m\u001b[0;34m\u001b[0m\u001b[0;34m\u001b[0m\u001b[0m\n\u001b[1;32m     12\u001b[0m \u001b[0;32mfrom\u001b[0m \u001b[0mskimage\u001b[0m\u001b[0;34m.\u001b[0m\u001b[0mmeasure\u001b[0m \u001b[0;32mimport\u001b[0m \u001b[0mlabel\u001b[0m\u001b[0;34m,\u001b[0m \u001b[0mregionprops\u001b[0m\u001b[0;34m\u001b[0m\u001b[0;34m\u001b[0m\u001b[0m\n",
      "\u001b[0;31mModuleNotFoundError\u001b[0m: No module named 'cv2'"
     ]
    }
   ],
   "source": [
    "import pandas as pd\n",
    "import numpy as np\n",
    "import matplotlib.pyplot as plt\n",
    "from sklearn import decomposition\n",
    "from sklearn import cluster\n",
    "from skimage import transform as tf\n",
    "import glob\n",
    "from skimage.morphology  import disk, erosion\n",
    "from skimage.restoration import inpaint\n",
    "import cv2\n",
    "import os \n",
    "from skimage.measure import label, regionprops\n",
    "\n",
    "np.random.seed(1)\n",
    "\n",
    "base_folder = '/home/nick/Downloads' \n",
    "csv_filename = 'youtube_faces_with_keypoints_full.csv'\n",
    "videoDF = pd.read_csv(os.path.join(base_folder, csv_filename))\n",
    "\n",
    "# create a dictionary that maps videoIDs to full file paths\n",
    "npz_files_full_path = glob.glob(base_folder + 'youtube_faces_*/*/*.npz')\n",
    "videoIDs = [x.split('/')[-1].split('.')[0] for x in npz_files_full_path]\n",
    "full_paths = {}\n",
    "for videoID, fullPath in zip(videoIDs, npz_files_full_path):\n",
    "    full_paths[videoID] = fullPath\n",
    "\n",
    "# remove from the large csv file all videos that weren't uploaded yet\n",
    "videoDF = videoDF.loc[videoDF.loc[:,'videoID'].isin(full_paths.keys()),:].reset_index(drop=True)\n"
   ]
  },
  {
   "cell_type": "code",
   "execution_count": null,
   "metadata": {},
   "outputs": [],
   "source": []
  }
 ],
 "metadata": {
  "kernelspec": {
   "display_name": "tflow1",
   "language": "python",
   "name": "tflow1"
  },
  "language_info": {
   "codemirror_mode": {
    "name": "ipython",
    "version": 3
   },
   "file_extension": ".py",
   "mimetype": "text/x-python",
   "name": "python",
   "nbconvert_exporter": "python",
   "pygments_lexer": "ipython3",
   "version": "3.6.10"
  }
 },
 "nbformat": 4,
 "nbformat_minor": 4
}
